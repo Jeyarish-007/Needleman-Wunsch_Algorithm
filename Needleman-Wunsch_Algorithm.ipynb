{
 "cells": [
  {
   "cell_type": "markdown",
   "id": "69978d69-1fd5-4f9e-825d-ac668315fc0c",
   "metadata": {},
   "source": [
    "Needleman-wunsch algorithm"
   ]
  },
  {
   "cell_type": "markdown",
   "id": "3122ca50-03b7-4239-ba44-65d7e3e6c0de",
   "metadata": {},
   "source": [
    "Objective: To achieve global pairwaise sequence alignment by Needleman-Wunsch Algorithm"
   ]
  },
  {
   "cell_type": "code",
   "execution_count": 11,
   "id": "1723cdc2-4880-4a0e-9f93-8a4fe922040d",
   "metadata": {},
   "outputs": [],
   "source": [
    "def get_sequence_from_fasta(content):\n",
    "    lines = content.strip().splitlines()\n",
    "    # Check if the first line is a FASTA header (starts with \">\")\n",
    "    if lines[0].startswith(\">\"):\n",
    "        sequence = ''.join(lines[1:])  # Concatenate lines after the header\n",
    "    else:\n",
    "        sequence = ''.join(lines)  # Treat all lines as sequence if no header\n",
    "    return sequence"
   ]
  },
  {
   "cell_type": "code",
   "execution_count": 12,
   "id": "54dc4953-af5c-414f-9e94-dc62e5fc7c3e",
   "metadata": {},
   "outputs": [],
   "source": [
    "#Initializing scoring matrix and traceback matrix\n",
    "def initialize_matrices(l1, l2, gap):\n",
    "    score = [[0 for _ in range(l1 + 1)] for _ in range(l2 + 1)]  # Initialize score matrix\n",
    "    tb = [[[0, 0, 0] for _ in range(l1 + 1)] for _ in range(l2 + 1)]  # Initialize traceback matrix\n",
    "    \n",
    "    for j in range(1, l2 + 1):\n",
    "        score[j][0] = score[j - 1][0] + gap  # Fill the first column with gap penalties\n",
    "        tb[j][0][2] = 1  # Mark traceback for vertical gaps\n",
    "        \n",
    "    for i in range(1, l1 + 1):\n",
    "        score[0][i] = score[0][i - 1] + gap  # Fill the first row with gap penalties\n",
    "        tb[0][i][1] = 1  # Mark traceback for horizontal gaps\n",
    "        \n",
    "    return score, tb"
   ]
  },
  {
   "cell_type": "code",
   "execution_count": 13,
   "id": "9b8e79d5-1b99-4663-b8ab-d34e70437586",
   "metadata": {},
   "outputs": [],
   "source": [
    "#filling the respective values in the scoring matrix table\n",
    "def fill_matrices(l1, l2, string1, string2, match, mismatch, gap, score, tb):\n",
    "    for j in range(1, l2 + 1):\n",
    "        for i in range(1, l1 + 1):\n",
    "            m = match if string1[i - 1] == string2[j - 1] else mismatch  # Match or mismatch score\n",
    "            s0 = score[j - 1][i - 1] + m  # Diagonal move\n",
    "            s1 = score[j][i - 1] + gap  # Horizontal move\n",
    "            s2 = score[j - 1][i] + gap  # Vertical move\n",
    "            score[j][i] = max(s0, s1, s2)  # Choose the highest score\n",
    "            \n",
    "            tb[j][i] = [s == score[j][i] for s in (s0, s1, s2)]  # Update traceback"
   ]
  },
  {
   "cell_type": "code",
   "execution_count": 14,
   "id": "6a79f1e4-1a57-4537-bb86-f4bb490aeacf",
   "metadata": {},
   "outputs": [],
   "source": [
    "#creating a function for the traceback mamtrix to find the traceback\n",
    "def traceback(l1, l2, string1, string2, tb):\n",
    "    gene1 = \" \" + string1  # Add a leading space for easier indexing\n",
    "    gene2 = \" \" + string2\n",
    "    \n",
    "    as1, as2, bar = \"\", \"\", \"\"  # Alignment strings\n",
    "    mc, x, y = 0, l1, l2  # Match count, starting coordinates\n",
    "    \n",
    "    while x > 0 or y > 0:\n",
    "        if tb[y][x][0]:  # Diagonal move\n",
    "            as1 += gene1[x]\n",
    "            as2 += gene2[y]\n",
    "            bar += '|' if gene1[x] == gene2[y] else ' '  # Match or mismatch\n",
    "            mc += gene1[x] == gene2[y]\n",
    "            x, y = x - 1, y - 1\n",
    "        elif tb[y][x][1]:  # Horizontal move\n",
    "            as1 += gene1[x]\n",
    "            as2 += \"_\"\n",
    "            bar += \" \"\n",
    "            x -= 1\n",
    "        elif tb[y][x][2]:  # Vertical move\n",
    "            as1 += \"_\"\n",
    "            as2 += gene2[y]\n",
    "            bar += \" \"\n",
    "            y -= 1\n",
    "        else:\n",
    "            break\n",
    "    \n",
    "    return as1[::-1], as2[::-1], bar[::-1], mc"
   ]
  },
  {
   "cell_type": "code",
   "execution_count": 15,
   "id": "7395dc50-50e2-4673-a7ab-3f1acea4c0a4",
   "metadata": {},
   "outputs": [],
   "source": [
    "def print_alignment(as1, as2, bar):\n",
    "    k = 0\n",
    "    while k * 100 < len(as1):\n",
    "        print(as1[100 * k: 100 * (k + 1)])  # Print chunks of 100 characters\n",
    "        print(bar[100 * k: 100 * (k + 1)])\n",
    "        print(as2[100 * k: 100 * (k + 1)])\n",
    "        print(\"\\n\")\n",
    "        k += 1"
   ]
  },
  {
   "cell_type": "code",
   "execution_count": null,
   "id": "091a06c4-e5e4-4fbd-a034-86a01d0b2b08",
   "metadata": {},
   "outputs": [],
   "source": [
    "if __name__ == \"__main__\":\n",
    "    gap = int(input(\"Enter the gap penalty: \"))\n",
    "    match = int(input(\"Enter the match score: \"))\n",
    "    mismatch = int(input(\"Enter the mismatch penalty: \"))\n",
    "    \n",
    "    print(\"\\nEnter the sequences. Copy & Paste the FASTA file content :- \")\n",
    "    \n",
    "    content1 = input(\"\\nEnter the first sequence: \")\n",
    "    string1 = get_sequence_from_fasta(content1)\n",
    "    \n",
    "    content2 = input(\"Enter the second sequence: \")\n",
    "    string2 = get_sequence_from_fasta(content2)\n",
    "    \n",
    "    # Check if sequences are empty\n",
    "    if not string1 or not string2:\n",
    "        print(\"Error: One or both sequences are empty. Please input valid sequences.\")\n",
    "        exit()\n",
    "    \n",
    "    print(\"\\nString1 is\\n\", string1)\n",
    "    print(\"\\nString2 is\\n\", string2)\n",
    "    \n",
    "    l1, l2 = len(string1), len(string2)\n",
    "    print(\"\\nThe lengths of the sequences are\", l1, l2, end='.')\n",
    "    print(\"\\n\\n\")\n",
    "    \n",
    "    score, tb = initialize_matrices(l1, l2, gap)\n",
    "    fill_matrices(l1, l2, string1, string2, match, mismatch, gap, score, tb)\n",
    "    \n",
    "    as1, as2, bar, mc = traceback(l1, l2, string1, string2, tb)\n",
    "    print_alignment(as1, as2, bar)\n",
    "    \n",
    "    if l2 > l1:\n",
    "        l1 = l2\n",
    "    print(\"The number of matches is\", mc)\n",
    "    \n",
    "    # Check for zero-length sequences to avoid division by zero\n",
    "    if l1 == 0:\n",
    "        print(\"Error: Sequence length is zero. Cannot compute percent similarity.\")\n",
    "    else:\n",
    "        print(\"The percent similarity is\", mc * 100 / l1)"
   ]
  }
 ],
 "metadata": {
  "kernelspec": {
   "display_name": "Python 3 (ipykernel)",
   "language": "python",
   "name": "python3"
  },
  "language_info": {
   "codemirror_mode": {
    "name": "ipython",
    "version": 3
   },
   "file_extension": ".py",
   "mimetype": "text/x-python",
   "name": "python",
   "nbconvert_exporter": "python",
   "pygments_lexer": "ipython3",
   "version": "3.12.7"
  }
 },
 "nbformat": 4,
 "nbformat_minor": 5
}
